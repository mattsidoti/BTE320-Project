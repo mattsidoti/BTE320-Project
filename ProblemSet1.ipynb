{
  "nbformat": 4,
  "nbformat_minor": 0,
  "metadata": {
    "colab": {
      "provenance": [],
      "include_colab_link": true
    },
    "kernelspec": {
      "name": "python3",
      "display_name": "Python 3"
    },
    "language_info": {
      "name": "python"
    }
  },
  "cells": [
    {
      "cell_type": "markdown",
      "metadata": {
        "id": "view-in-github",
        "colab_type": "text"
      },
      "source": [
        "<a href=\"https://colab.research.google.com/github/mattsidoti/BTE320-Project/blob/main/ProblemSet1.ipynb\" target=\"_parent\"><img src=\"https://colab.research.google.com/assets/colab-badge.svg\" alt=\"Open In Colab\"/></a>"
      ]
    },
    {
      "cell_type": "markdown",
      "source": [
        "# Problem Set 2"
      ],
      "metadata": {
        "id": "mqKVIuY-mxNU"
      }
    },
    {
      "cell_type": "markdown",
      "source": [
        "## Assignment 1: Quality Control (7 points)\n",
        "\n",
        "A quality control manager would like to find the average weight of a list of weights. Prior experience indicates that the first two measures are atypical, and the practice is to exclude these from the average calculation.\n",
        "\n",
        "Write a program that calculates the average of a list of numbers that given as inputs from the user, excluding the first three values.\n",
        "\n",
        "For your program, you must define and use the following functions:\n",
        "- `getValues(n)`: Prompt the user for `n` values, returns the list\n",
        "- `calcAverage(alist)`: Calculates the average from the list"
      ],
      "metadata": {
        "id": "-RSYW1jVm08n"
      }
    },
    {
      "cell_type": "code",
      "execution_count": null,
      "metadata": {
        "id": "AqbgJkgNmvQw",
        "colab": {
          "base_uri": "https://localhost:8080/"
        },
        "outputId": "8a200eb9-a910-43ad-ccf7-ec0a74e8d3f3"
      },
      "outputs": [
        {
          "output_type": "stream",
          "name": "stdout",
          "text": [
            "Enter number of values:5\n",
            "Enter a value:1\n",
            "Enter a value:2\n",
            "Enter a value:3\n",
            "Enter a value:4\n",
            "Enter a value:5\n",
            "4.0\n"
          ]
        }
      ],
      "source": [
        "def getValues(n):\n",
        "  weights = []\n",
        "  for i in range(n):\n",
        "    values = float(input('Enter a value:'))\n",
        "    weights.append(values)\n",
        "  return weights[2:]\n",
        "\n",
        "def calcAverage(alist):\n",
        "  return sum(alist) / len(alist)\n",
        "\n",
        "def main():\n",
        "  n_weights = int(input('Enter number of values:'))\n",
        "  L = getValues(n_weights)\n",
        "  avg = calcAverage(L)\n",
        "  print(avg)\n",
        "\n",
        "main()\n",
        "\n"
      ]
    },
    {
      "cell_type": "markdown",
      "source": [
        "## Assignment 2: Country Statistics Lookup-Multiple Measures (6 points)\n",
        "\n",
        "Assume a program begins with the statement:\n",
        "\n",
        "```python\n",
        "allData = { # dictionary of values for countries\n",
        "    'US': {'pop':325.7, 'gdp': 19.39, 'ccy': 'USD', 'fx':  1.0},\n",
        "    'CA': {'pop': 36.5, 'gdp':  1.65, 'ccy': 'CAD', 'fx':  1.35},\n",
        "    'MX': {'pop':129.2, 'gdp':  1.15, 'ccy': 'MXN', 'fx': 19.68}\n",
        "    }\n",
        "```\n",
        "\n",
        "Write subsequent statements that (in a loop) prompt the user for a country code (`US`, `CA`, or `MX`), then prompt for a measure name (`pop`, `gdp`, `ccy`, or `fx`), then look up in the above dictionary for the corresponding value, and display it.\n",
        "\n",
        "Example run:\n",
        "```\n",
        "Please enter a country code: CA\n",
        "Please enter a statistic: pop\n",
        "CA pop = 36.5\n",
        "```\n",
        "\n",
        "Your program should handle the cases where a user-entered country code or measure name is not found."
      ],
      "metadata": {
        "id": "QFO0Kzx8ncnv"
      }
    },
    {
      "cell_type": "code",
      "source": [
        "allData = { # dictionary of values for countries\n",
        "    'US': {'pop':325.7, 'gdp': 19.39, 'ccy': 'USD', 'fx':  1.0},\n",
        "    'CA': {'pop': 36.5, 'gdp':  1.65, 'ccy': 'CAD', 'fx':  1.35},\n",
        "    'MX': {'pop':129.2, 'gdp':  1.15, 'ccy': 'MXN', 'fx': 19.68}\n",
        "    }\n",
        "\n",
        "\n",
        "\n",
        "while True:\n",
        "  code = input(\"Enter country code (or type \\'exit' to stop):\")\n",
        "  if code == 'exit':\n",
        "    break\n",
        "  if code not in allData.keys():\n",
        "    print(\"Invalid code. Please re-enter:\")\n",
        "    continue\n",
        "  measure = input(\"Enter measure name\")\n",
        "  if measure not in allData[code].keys():\n",
        "    print(\"Invalid measure\")\n",
        "    continue\n",
        "\n",
        "  if measure == 'pop':\n",
        "    print(f'Population = {allData[code][measure]} million people')\n",
        "  elif measure == 'gdp':\n",
        "    print(f'GDP = {allData[code][measure]} trillion $')\n",
        "  elif measure == 'ccy':\n",
        "    print(f'Currency = {allData[code][measure]}')\n",
        "  else:\n",
        "    print(f'FX: {allData[code][measure]}')\n",
        ""
      ],
      "metadata": {
        "id": "NZFjRINKowEW",
        "colab": {
          "base_uri": "https://localhost:8080/"
        },
        "outputId": "bc127175-eaa4-41f5-a72a-e579df025fb7"
      },
      "execution_count": 44,
      "outputs": [
        {
          "name": "stdout",
          "output_type": "stream",
          "text": [
            "Enter country code (or type 'exit' to stop):exit\n"
          ]
        }
      ]
    },
    {
      "cell_type": "markdown",
      "source": [
        "## Assignment 3: Parking Garage (6 points)\n",
        "\n",
        "Write a program to compute the fee for parking in a garage for a number of hours.\n",
        "\n",
        "The program should:\n",
        "- Prompt the user for how many hours parked\n",
        "- Calculate the fee based on the following rules:\n",
        "  - $2.50/hour\n",
        "\n",
        "  - minimum fee is $6.00\n",
        "\n",
        "  - maximum fee is $20.00\n",
        "- Print the result\n",
        "\n",
        "For your program, define and use the following two functions:\n",
        "```python\n",
        "# use input() to prompt for the # of hours parked, return this value\n",
        "def getParkingHours()\n",
        "\n",
        "# takes as input hours (a number), returns the parking fee\n",
        "def calcParkingFee()\n",
        "```"
      ],
      "metadata": {
        "id": "GjaUFrnfpKFf"
      }
    },
    {
      "cell_type": "code",
      "source": [
        "def getParkingHours():\n",
        "  hours = float(input('Enter how many hours were you parked:'))\n",
        "  return hours\n",
        "\n",
        "def calcParkingFee(h):\n",
        "  if h < 2.4:\n",
        "    print('Fee is $6.00')\n",
        "  elif h >= 2.4 and h <= 8:\n",
        "    print(f'Fee is ${2.5*h}')\n",
        "  else:\n",
        "    print('Fee is $20.00')\n",
        "\n",
        "def main():\n",
        "  hours = getParkingHours()\n",
        "  calcParkingFee(hours)\n",
        "\n",
        "main()"
      ],
      "metadata": {
        "id": "5ha4O3V5pwNN",
        "colab": {
          "base_uri": "https://localhost:8080/",
          "height": 0
        },
        "outputId": "68d85fed-6dfe-472e-b62a-18ec0fc0d490"
      },
      "execution_count": 6,
      "outputs": [
        {
          "output_type": "stream",
          "name": "stdout",
          "text": [
            "Enter how many hours were you parked:10\n",
            "Fee is $20.00\n"
          ]
        }
      ]
    },
    {
      "cell_type": "markdown",
      "source": [
        "## Assignment 4: Tuition (6 points)\n",
        "\n",
        "A college charges tuition according to the following:\n",
        "- 12 or more credits: $20,000/semester\n",
        "\n",
        "- 1-11 credits: $1,200 + $1,700 per credit\n",
        "\n",
        "Write a program that prompts the user for a number of credits and determines and displays the tuition for the semester. As part of your program, define and use the following function:\n",
        "```python\n",
        "def calcTuition(credits)\n",
        "```\n",
        "The function returns the tuition for a given number of credits"
      ],
      "metadata": {
        "id": "gipBObe5qm-2"
      }
    },
    {
      "cell_type": "code",
      "source": [
        "def calcTuition(credits):\n",
        "  if credits >= 12:\n",
        "    print('$20,000/semester')\n",
        "  elif credits < 12 and credits >= 1:\n",
        "    print(f'${1200 + (1700*credits)}/semester')\n",
        "  else:\n",
        "    print(f'Invalid number of credits: {credits}')\n",
        "\n",
        "c = int(input('Please input your current credits:'))\n",
        "\n",
        "def main():\n",
        "  calcTuition(c)\n",
        "\n",
        "main()\n"
      ],
      "metadata": {
        "id": "BPcn9ywzrL8y",
        "colab": {
          "base_uri": "https://localhost:8080/",
          "height": 0
        },
        "outputId": "862745a0-d9ae-4838-b3d2-2b678f30debd"
      },
      "execution_count": 43,
      "outputs": [
        {
          "output_type": "stream",
          "name": "stdout",
          "text": [
            "Please input your current credits:2\n",
            "$4600/semester\n"
          ]
        }
      ]
    },
    {
      "cell_type": "code",
      "source": [],
      "metadata": {
        "id": "UwofgtH4YQXm"
      },
      "execution_count": null,
      "outputs": []
    }
  ]
}